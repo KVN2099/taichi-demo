{
 "cells": [
  {
   "cell_type": "code",
   "execution_count": 0,
   "metadata": {
    "application/vnd.databricks.v1+cell": {
     "cellMetadata": {
      "byteLimit": 2048000,
      "rowLimit": 10000
     },
     "inputWidgets": {},
     "nuid": "e3f4783c-519a-4d30-a5f9-49383a343ada",
     "showTitle": false,
     "tableResultSettingsMap": {},
     "title": ""
    }
   },
   "outputs": [],
   "source": [
    "%pip install taichi"
   ]
  },
  {
   "cell_type": "code",
   "execution_count": 0,
   "metadata": {
    "application/vnd.databricks.v1+cell": {
     "cellMetadata": {
      "byteLimit": 2048000,
      "rowLimit": 10000
     },
     "inputWidgets": {},
     "nuid": "fa908883-ccd6-44a1-a8bd-11379256ea83",
     "showTitle": false,
     "tableResultSettingsMap": {},
     "title": ""
    }
   },
   "outputs": [],
   "source": [
    "import time\n",
    "import taichi as ti"
   ]
  },
  {
   "cell_type": "markdown",
   "metadata": {
    "application/vnd.databricks.v1+cell": {
     "cellMetadata": {
      "byteLimit": 2048000,
      "rowLimit": 10000
     },
     "inputWidgets": {},
     "nuid": "e29498bf-016b-499b-a2d2-1db128958433",
     "showTitle": false,
     "tableResultSettingsMap": {},
     "title": ""
    }
   },
   "source": [
    "# Vanilla Implementation"
   ]
  },
  {
   "cell_type": "code",
   "execution_count": 0,
   "metadata": {
    "application/vnd.databricks.v1+cell": {
     "cellMetadata": {
      "byteLimit": 2048000,
      "rowLimit": 10000
     },
     "inputWidgets": {},
     "nuid": "ecd6e648-fa07-45e2-a8f8-7429ed18badc",
     "showTitle": false,
     "tableResultSettingsMap": {},
     "title": ""
    }
   },
   "outputs": [],
   "source": [
    "def intensive_prime_task(limit):\n",
    "    def sieve_of_eratosthenes(n):\n",
    "        sieve = [True] * (n + 1)\n",
    "        sieve[0] = sieve[1] = False\n",
    "        for i in range(2, int(n**0.5) + 1):\n",
    "            if sieve[i]:\n",
    "                for j in range(i*i, n + 1, i):\n",
    "                    sieve[j] = False\n",
    "        return [x for x in range(n + 1) if sieve[x]]\n",
    "\n",
    "    start_time = time.time()\n",
    "    \n",
    "    # Find primes up to the limit\n",
    "    primes = sieve_of_eratosthenes(limit)\n",
    "    \n",
    "    # Perform additional calculations on the primes\n",
    "    result = 0\n",
    "    for i, prime in enumerate(primes):\n",
    "        for j in range(i + 1, len(primes)):\n",
    "            result += (prime ** 2 + primes[j] ** 2) % (10**9 + 7)\n",
    "    \n",
    "    end_time = time.time()\n",
    "    execution_time = end_time - start_time\n",
    "    \n",
    "    return len(primes), result, execution_time"
   ]
  },
  {
   "cell_type": "code",
   "execution_count": 0,
   "metadata": {
    "application/vnd.databricks.v1+cell": {
     "cellMetadata": {
      "byteLimit": 2048000,
      "rowLimit": 10000
     },
     "inputWidgets": {},
     "nuid": "0841df50-7239-4aa8-ba06-ee7021ca1986",
     "showTitle": true,
     "tableResultSettingsMap": {},
     "title": "Example Usage"
    }
   },
   "outputs": [],
   "source": [
    "limit = 100000\n",
    "count, final_result, time_taken = intensive_prime_task(limit)\n",
    "print(f\"Number of primes found: {count}\")\n",
    "print(f\"Final result: {final_result}\")\n",
    "print(f\"Execution time: {time_taken:.2f} seconds\")"
   ]
  },
  {
   "cell_type": "markdown",
   "metadata": {
    "application/vnd.databricks.v1+cell": {
     "cellMetadata": {
      "byteLimit": 2048000,
      "rowLimit": 10000
     },
     "inputWidgets": {},
     "nuid": "10cc34db-4b45-48e1-9ece-c287de971684",
     "showTitle": false,
     "tableResultSettingsMap": {},
     "title": ""
    }
   },
   "source": [
    "# Taichi Implementation"
   ]
  },
  {
   "cell_type": "code",
   "execution_count": 0,
   "metadata": {
    "application/vnd.databricks.v1+cell": {
     "cellMetadata": {
      "byteLimit": 2048000,
      "rowLimit": 10000
     },
     "inputWidgets": {},
     "nuid": "e9053e52-71c9-4e8e-b890-43fc1430e865",
     "showTitle": false,
     "tableResultSettingsMap": {},
     "title": ""
    }
   },
   "outputs": [],
   "source": [
    "import taichi as ti\n",
    "import time\n",
    "\n",
    "ti.init(arch=ti.cpu)  # You can change this to ti.gpu if you have a compatible GPU\n",
    "\n",
    "# Define the field in the Python scope\n",
    "n = 100000\n",
    "primes = ti.field(dtype=ti.i32, shape=n + 1)\n",
    "\n",
    "@ti.kernel\n",
    "def sieve_of_eratosthenes(n: int) -> int:\n",
    "    # Initialize primes array\n",
    "    for i in range(n + 1):\n",
    "        primes[i] = 1\n",
    "    primes[0] = 0\n",
    "    primes[1] = 0\n",
    "\n",
    "    count = 0\n",
    "    for i in range(2, int(ti.sqrt(n)) + 1):\n",
    "        if primes[i] == 1:\n",
    "            j = i * i\n",
    "            while j <= n:  # Replace range with a while loop for Taichi compatibility\n",
    "                primes[j] = 0\n",
    "                j += i\n",
    "\n",
    "    for i in range(2, n + 1):\n",
    "        if primes[i] == 1:\n",
    "            count += 1\n",
    "\n",
    "    return count\n",
    "\n",
    "# Example usage\n",
    "start_time = time.time()\n",
    "prime_count = sieve_of_eratosthenes(n)\n",
    "end_time = time.time()\n",
    "\n",
    "print(f\"Number of primes up to {n}: {prime_count}\")\n",
    "print(f\"Execution time: {end_time - start_time:.4f} seconds\")\n"
   ]
  }
 ],
 "metadata": {
  "application/vnd.databricks.v1+notebook": {
   "computePreferences": null,
   "dashboards": [],
   "environmentMetadata": {
    "base_environment": "",
    "environment_version": "2"
   },
   "inputWidgetPreferences": null,
   "language": "python",
   "notebookMetadata": {
    "pythonIndentUnit": 4
   },
   "notebookName": "Taichi Demo",
   "widgets": {}
  },
  "language_info": {
   "name": "python"
  }
 },
 "nbformat": 4,
 "nbformat_minor": 0
}
