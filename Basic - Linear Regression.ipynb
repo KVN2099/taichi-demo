{
 "cells": [
  {
   "cell_type": "code",
   "execution_count": 0,
   "metadata": {
    "application/vnd.databricks.v1+cell": {
     "cellMetadata": {
      "byteLimit": 2048000,
      "rowLimit": 10000
     },
     "inputWidgets": {},
     "nuid": "fd926ea6-0c8d-4475-b1cd-cb99ba9344a5",
     "showTitle": false,
     "tableResultSettingsMap": {},
     "title": ""
    }
   },
   "outputs": [],
   "source": [
    "from sklearn.datasets import make_regression\n",
    "import numpy as np\n",
    "import pandas as pd\n",
    "\n",
    "# Generate synthetic data\n",
    "X, y = make_regression(\n",
    "    n_samples=1000,\n",
    "    n_features=5,\n",
    "    n_informative=3,\n",
    "    noise=0.1,\n",
    "    random_state=42\n",
    ")\n",
    "\n",
    "# Create DataFrame with feature names\n",
    "feature_names = [f\"feature_{i+1}\" for i in range(X.shape[1])]\n",
    "df = pd.DataFrame(X, columns=feature_names)\n",
    "df[\"target\"] = y\n",
    "\n",
    "# Split data (80% train, 20% test)\n",
    "from sklearn.model_selection import train_test_split\n",
    "X_train, X_test, y_train, y_test = train_test_split(\n",
    "    X, y, test_size=0.2, random_state=42\n",
    ")"
   ]
  },
  {
   "cell_type": "code",
   "execution_count": 0,
   "metadata": {
    "application/vnd.databricks.v1+cell": {
     "cellMetadata": {
      "byteLimit": 2048000,
      "rowLimit": 10000
     },
     "inputWidgets": {},
     "nuid": "f2eeea2e-d616-4ed6-8359-620b9c68545f",
     "showTitle": false,
     "tableResultSettingsMap": {},
     "title": ""
    }
   },
   "outputs": [],
   "source": [
    "from sklearn.linear_model import LinearRegression\n",
    "import mlflow\n",
    "from mlflow.models import infer_signature\n",
    "\n",
    "# Enable autologging\n",
    "mlflow.sklearn.autolog(log_models=True)\n",
    "\n",
    "# Initialize MLflow run\n",
    "with mlflow.start_run(run_name=\"linear_regression\") as run:\n",
    "    # Train model\n",
    "    lr = LinearRegression()\n",
    "    lr.fit(X_train, y_train)\n",
    "    \n",
    "    # Log signature for input/output schema\n",
    "    signature = infer_signature(X_train, lr.predict(X_train))\n",
    "    \n",
    "    # Log model with required artifacts\n",
    "    mlflow.sklearn.log_model(\n",
    "        sk_model=lr,\n",
    "        artifact_path=\"models\",\n",
    "        registered_model_name=\"LinearRegressionModel\",\n",
    "        signature=signature,\n",
    "        input_example=X_train[:1]\n",
    "    )\n"
   ]
  },
  {
   "cell_type": "code",
   "execution_count": 0,
   "metadata": {
    "application/vnd.databricks.v1+cell": {
     "cellMetadata": {
      "byteLimit": 2048000,
      "rowLimit": 10000
     },
     "inputWidgets": {},
     "nuid": "343cd32a-b4bd-4f14-858b-2e0c1fd291a6",
     "showTitle": false,
     "tableResultSettingsMap": {},
     "title": ""
    }
   },
   "outputs": [],
   "source": [
    "from sklearn.model_selection import GridSearchCV\n",
    "from sklearn.linear_model import Ridge\n",
    "\n",
    "# Define hyperparameter grid\n",
    "param_grid = {\n",
    "    \"alpha\": [0.1, 0.5, 1.0],\n",
    "    \"solver\": [\"svd\", \"cholesky\"]\n",
    "}\n",
    "\n",
    "# Perform grid search\n",
    "with mlflow.start_run(run_name=\"ridge_regression\") as run:\n",
    "    ridge = Ridge()\n",
    "    grid_search = GridSearchCV(ridge, param_grid, cv=5)\n",
    "    grid_search.fit(X_train, y_train)\n",
    "    \n",
    "    # Log best parameters and metrics\n",
    "    mlflow.log_param(\"best_alpha\", grid_search.best_params_[\"alpha\"])\n",
    "    mlflow.log_metric(\"best_score\", grid_search.best_score_)\n",
    "    \n",
    "    # Log model\n",
    "    mlflow.sklearn.log_model(\n",
    "        sk_model=grid_search.best_estimator_,\n",
    "        artifact_path=\"models\",\n",
    "        registered_model_name=\"RidgeRegressionModel\",\n",
    "        signature=signature\n",
    "    )\n"
   ]
  },
  {
   "cell_type": "code",
   "execution_count": 0,
   "metadata": {
    "application/vnd.databricks.v1+cell": {
     "cellMetadata": {
      "byteLimit": 2048000,
      "rowLimit": 10000
     },
     "inputWidgets": {},
     "nuid": "961ab40f-ec1f-4737-935e-c1e727887152",
     "showTitle": false,
     "tableResultSettingsMap": {},
     "title": ""
    }
   },
   "outputs": [],
   "source": [
    "from mlflow.tracking import MlflowClient\n",
    "\n",
    "# Create an instance of the MlflowClient\n",
    "client = MlflowClient()\n",
    "\n",
    "# Fetch all registered models\n",
    "registered_models = client.search_registered_models()\n",
    "print(registered_models)\n",
    "\n",
    "# Print model names and their latest versions\n",
    "for model in registered_models:\n",
    "    print(f'Model name: {model.name}')\n",
    "    for version in model.latest_versions:\n",
    "        print(f'  Version: {version.version}, Stage: {version.current_stage}')"
   ]
  },
  {
   "cell_type": "code",
   "execution_count": 0,
   "metadata": {
    "application/vnd.databricks.v1+cell": {
     "cellMetadata": {
      "byteLimit": 2048000,
      "rowLimit": 10000
     },
     "inputWidgets": {},
     "nuid": "f5570493-88fb-4d00-a15f-a02a4068de5e",
     "showTitle": false,
     "tableResultSettingsMap": {},
     "title": ""
    }
   },
   "outputs": [],
   "source": [
    "from mlflow.pyfunc import load_model\n",
    "\n",
    "# Load model using the catalog.schema.model_name format\n",
    "model_name = \"kevo_390014788141199.default.linearregressionmodel\"\n",
    "loaded_model = mlflow.pyfunc.load_model(f\"models:/{model_name}@champion\")\n",
    "\n",
    "# Make predictions on test data\n",
    "predictions = loaded_model.predict(X_test)\n",
    "print(\"Predictions for first 5 samples:\", predictions[:5])"
   ]
  },
  {
   "cell_type": "code",
   "execution_count": 0,
   "metadata": {
    "application/vnd.databricks.v1+cell": {
     "cellMetadata": {
      "byteLimit": 2048000,
      "rowLimit": 10000
     },
     "inputWidgets": {},
     "nuid": "443ee8a1-ee8b-4866-903a-bce71db4a0be",
     "showTitle": false,
     "tableResultSettingsMap": {},
     "title": ""
    }
   },
   "outputs": [],
   "source": [
    "# Get feature names and coefficients\n",
    "feature_coefficients = {feature_names[i]: lr.coef_[i] for i in range(len(feature_names))}\n",
    "\n",
    "# Log coefficients as metrics\n",
    "for feature, coeff in feature_coefficients.items():\n",
    "    mlflow.log_metric(f\"coeff_{feature}\", coeff)\n",
    "mlflow.log_metric(\"intercept\", lr.intercept_)\n"
   ]
  },
  {
   "cell_type": "code",
   "execution_count": 0,
   "metadata": {
    "application/vnd.databricks.v1+cell": {
     "cellMetadata": {
      "byteLimit": 2048000,
      "rowLimit": 10000
     },
     "inputWidgets": {},
     "nuid": "a6dad0b2-d3f0-4046-8da8-b55e827472c2",
     "showTitle": false,
     "tableResultSettingsMap": {},
     "title": ""
    }
   },
   "outputs": [],
   "source": [
    "mlflow.sklearn.save_model(\n",
    "    sk_model=lr,\n",
    "    path=\"models/cloudpickle/\",\n",
    "    serialization_format=mlflow.sklearn.SERIALIZATION_FORMAT_CLOUDPICKLE\n",
    ")"
   ]
  }
 ],
 "metadata": {
  "application/vnd.databricks.v1+notebook": {
   "computePreferences": null,
   "dashboards": [],
   "environmentMetadata": {
    "base_environment": "",
    "environment_version": "2"
   },
   "language": "python",
   "notebookMetadata": {
    "pythonIndentUnit": 4
   },
   "notebookName": "Basic - Linear Regression",
   "widgets": {}
  },
  "language_info": {
   "name": "python"
  }
 },
 "nbformat": 4,
 "nbformat_minor": 0
}
