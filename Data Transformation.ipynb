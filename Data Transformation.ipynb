{
 "cells": [
  {
   "cell_type": "code",
   "execution_count": 0,
   "metadata": {
    "application/vnd.databricks.v1+cell": {
     "cellMetadata": {
      "byteLimit": 2048000,
      "rowLimit": 10000
     },
     "inputWidgets": {},
     "nuid": "fbf97fc6-81c3-4a55-aa20-bc3b9aa91282",
     "showTitle": false,
     "tableResultSettingsMap": {},
     "title": ""
    }
   },
   "outputs": [],
   "source": [
    "airports = spark.read.table('kevo_demos.kevo4.airports')\n",
    "carriers = spark.read.table('kevo_demos.kevo4.carriers')\n",
    "flights = spark.read.table('kevo_demos.kevo4.flights_1988_2008')\n",
    "plane_data = spark.read.table('kevo_demos.kevo4.plane_data')\n",
    "\n",
    "display(airports)\n",
    "display(carriers)\n",
    "display(flights)\n",
    "display(plane_data)"
   ]
  },
  {
   "cell_type": "code",
   "execution_count": 0,
   "metadata": {
    "application/vnd.databricks.v1+cell": {
     "cellMetadata": {
      "byteLimit": 2048000,
      "rowLimit": 10000
     },
     "inputWidgets": {},
     "nuid": "0fef4f76-2148-4366-bb2e-95ab1c3adaf9",
     "showTitle": false,
     "tableResultSettingsMap": {},
     "title": ""
    }
   },
   "outputs": [],
   "source": [
    "plane_data_cleaned = plane_data.dropna()\n",
    "display(plane_data_cleaned)"
   ]
  }
 ],
 "metadata": {
  "application/vnd.databricks.v1+notebook": {
   "computePreferences": null,
   "dashboards": [],
   "environmentMetadata": {
    "base_environment": "",
    "environment_version": "2"
   },
   "language": "python",
   "notebookMetadata": {
    "pythonIndentUnit": 4
   },
   "notebookName": "Data Transformation",
   "widgets": {}
  },
  "language_info": {
   "name": "python"
  }
 },
 "nbformat": 4,
 "nbformat_minor": 0
}
